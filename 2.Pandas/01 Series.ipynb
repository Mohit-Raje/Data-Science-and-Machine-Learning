{
 "cells": [
  {
   "cell_type": "code",
   "execution_count": 4,
   "id": "25fa0320-d8f4-453d-949c-ad53268e516f",
   "metadata": {},
   "outputs": [],
   "source": [
    "import numpy as np\n",
    "import pandas as pd"
   ]
  },
  {
   "cell_type": "code",
   "execution_count": 3,
   "id": "4b33fd89-3a2c-4447-bd44-dbbac6fa19b1",
   "metadata": {},
   "outputs": [],
   "source": [
    "my_data=[10,20,30]\n",
    "labels=['a' , 'b' , 'c']"
   ]
  },
  {
   "cell_type": "code",
   "execution_count": 4,
   "id": "6e82f22b-28da-4824-80db-ceedc9981164",
   "metadata": {},
   "outputs": [
    {
     "data": {
      "text/plain": [
       "0    10\n",
       "1    20\n",
       "2    30\n",
       "dtype: int64"
      ]
     },
     "execution_count": 4,
     "metadata": {},
     "output_type": "execute_result"
    }
   ],
   "source": [
    "pd.Series(data=my_data)"
   ]
  },
  {
   "cell_type": "code",
   "execution_count": 5,
   "id": "a921a59a-5b7b-4f81-ac4c-b4106acddcd7",
   "metadata": {},
   "outputs": [
    {
     "data": {
      "text/plain": [
       "a    10\n",
       "b    20\n",
       "c    30\n",
       "dtype: int64"
      ]
     },
     "execution_count": 5,
     "metadata": {},
     "output_type": "execute_result"
    }
   ],
   "source": [
    "pd.Series(data=my_data , index=labels)"
   ]
  },
  {
   "cell_type": "code",
   "execution_count": 6,
   "id": "89265b89-c708-44de-a449-6f952db57d17",
   "metadata": {},
   "outputs": [
    {
     "data": {
      "text/plain": [
       "a    10\n",
       "b    20\n",
       "c    30\n",
       "dtype: int64"
      ]
     },
     "execution_count": 6,
     "metadata": {},
     "output_type": "execute_result"
    }
   ],
   "source": [
    "pd.Series(my_data , labels)"
   ]
  },
  {
   "cell_type": "code",
   "execution_count": 7,
   "id": "305f0c57-0ab1-43a8-83be-b01da32e0b01",
   "metadata": {},
   "outputs": [],
   "source": [
    "arr=np.array(my_data)"
   ]
  },
  {
   "cell_type": "code",
   "execution_count": 8,
   "id": "c33532c7-96e5-4d10-95c2-0cccafcd39ec",
   "metadata": {},
   "outputs": [
    {
     "data": {
      "text/plain": [
       "array([10, 20, 30])"
      ]
     },
     "execution_count": 8,
     "metadata": {},
     "output_type": "execute_result"
    }
   ],
   "source": [
    "arr"
   ]
  },
  {
   "cell_type": "code",
   "execution_count": 9,
   "id": "52f171be-578a-4329-bf44-914ed0d89047",
   "metadata": {},
   "outputs": [
    {
     "data": {
      "text/plain": [
       "a    10\n",
       "b    20\n",
       "c    30\n",
       "dtype: int32"
      ]
     },
     "execution_count": 9,
     "metadata": {},
     "output_type": "execute_result"
    }
   ],
   "source": [
    "pd.Series(arr , labels)"
   ]
  },
  {
   "cell_type": "code",
   "execution_count": 10,
   "id": "b510b2fd-7acc-4257-841c-c1b4cc657dea",
   "metadata": {},
   "outputs": [],
   "source": [
    "d={\n",
    "   'a' : 10 , \n",
    "    'b'  : 20 , \n",
    "    'c' : 30\n",
    "}"
   ]
  },
  {
   "cell_type": "code",
   "execution_count": 11,
   "id": "7123b7ba-6a8a-4563-b701-b464000ba387",
   "metadata": {},
   "outputs": [
    {
     "data": {
      "text/plain": [
       "{'a': 10, 'b': 20, 'c': 30}"
      ]
     },
     "execution_count": 11,
     "metadata": {},
     "output_type": "execute_result"
    }
   ],
   "source": [
    "d"
   ]
  },
  {
   "cell_type": "code",
   "execution_count": 12,
   "id": "5a802096-ff93-42b8-9d98-e3632ffec3ad",
   "metadata": {},
   "outputs": [
    {
     "data": {
      "text/plain": [
       "a    10\n",
       "b    20\n",
       "c    30\n",
       "dtype: int64"
      ]
     },
     "execution_count": 12,
     "metadata": {},
     "output_type": "execute_result"
    }
   ],
   "source": [
    "pd.Series(d)"
   ]
  },
  {
   "cell_type": "code",
   "execution_count": 13,
   "id": "84546d41-891f-4db6-a4ba-e105bf47f11a",
   "metadata": {},
   "outputs": [
    {
     "data": {
      "text/plain": [
       "Fname          Mohit\n",
       "Lname           Raje\n",
       "age               19\n",
       "gender          Male\n",
       "blood group       B+\n",
       "dtype: object"
      ]
     },
     "execution_count": 13,
     "metadata": {},
     "output_type": "execute_result"
    }
   ],
   "source": [
    "pd.Series(['Mohit' , 'Raje' , 19 , 'Male' , 'B+'] ,\n",
    "         ['Fname' , 'Lname' , 'age' , 'gender' , 'blood group']\n",
    "         )"
   ]
  },
  {
   "cell_type": "code",
   "execution_count": 14,
   "id": "edc43828-af44-4e01-97e6-3232923348b4",
   "metadata": {},
   "outputs": [],
   "source": [
    "data=['Mohit' , 'Raje' , 19 , 'Male' , 'B+']\n",
    "labels=['Fname' , 'Lname' , 'age' , 'gender' , 'blood group']"
   ]
  },
  {
   "cell_type": "code",
   "execution_count": 15,
   "id": "1e6e0260-5708-4f79-995e-f9244a3a9cc4",
   "metadata": {},
   "outputs": [],
   "source": [
    "data=np.array(data)\n",
    "labels=np.array(labels)"
   ]
  },
  {
   "cell_type": "code",
   "execution_count": 16,
   "id": "29ad1053-e9bf-439e-9777-096a87c6ad4c",
   "metadata": {},
   "outputs": [],
   "source": [
    "my_personal_data=pd.Series(data , labels)"
   ]
  },
  {
   "cell_type": "code",
   "execution_count": 17,
   "id": "a27ad9ca-a8be-4940-aa08-e557c7677159",
   "metadata": {},
   "outputs": [],
   "source": [
    "ser1=pd.Series([1,2,3,4] , ['USA' , 'Germany' , 'USSR' , 'Japan'])"
   ]
  },
  {
   "cell_type": "code",
   "execution_count": 18,
   "id": "c0465f88-1c57-4758-adfe-d64a1ff20d21",
   "metadata": {},
   "outputs": [
    {
     "data": {
      "text/plain": [
       "USA        1\n",
       "Germany    2\n",
       "USSR       3\n",
       "Japan      4\n",
       "dtype: int64"
      ]
     },
     "execution_count": 18,
     "metadata": {},
     "output_type": "execute_result"
    }
   ],
   "source": [
    "ser1"
   ]
  },
  {
   "cell_type": "code",
   "execution_count": 19,
   "id": "0fc0253d-b78e-474e-a9b2-0a2544168f13",
   "metadata": {},
   "outputs": [],
   "source": [
    "ser2=pd.Series([1,2,5,4] ,  ['USA' , 'Germany' , 'Italy' , 'Japan'])"
   ]
  },
  {
   "cell_type": "code",
   "execution_count": 20,
   "id": "ec934320-df69-4b54-8eb1-98da41617686",
   "metadata": {},
   "outputs": [
    {
     "data": {
      "text/plain": [
       "USA        1\n",
       "Germany    2\n",
       "Italy      5\n",
       "Japan      4\n",
       "dtype: int64"
      ]
     },
     "execution_count": 20,
     "metadata": {},
     "output_type": "execute_result"
    }
   ],
   "source": [
    "ser2"
   ]
  },
  {
   "cell_type": "code",
   "execution_count": 21,
   "id": "36e73871-77b6-484c-ad67-36be7041b077",
   "metadata": {},
   "outputs": [
    {
     "data": {
      "text/plain": [
       "1"
      ]
     },
     "execution_count": 21,
     "metadata": {},
     "output_type": "execute_result"
    }
   ],
   "source": [
    "ser1['USA']"
   ]
  },
  {
   "cell_type": "code",
   "execution_count": 22,
   "id": "df203064-c9f7-4b3a-8ea3-d631544e887d",
   "metadata": {},
   "outputs": [
    {
     "data": {
      "text/plain": [
       "5"
      ]
     },
     "execution_count": 22,
     "metadata": {},
     "output_type": "execute_result"
    }
   ],
   "source": [
    "ser2['Italy']"
   ]
  },
  {
   "cell_type": "code",
   "execution_count": 23,
   "id": "80343fa1-9b84-406f-8ed7-31ea45d2db19",
   "metadata": {},
   "outputs": [],
   "source": [
    "ser3=pd.Series(data=labels)"
   ]
  },
  {
   "cell_type": "code",
   "execution_count": 24,
   "id": "460b8b44-70cb-4aff-b7e9-c86696b73d7e",
   "metadata": {},
   "outputs": [
    {
     "data": {
      "text/plain": [
       "0          Fname\n",
       "1          Lname\n",
       "2            age\n",
       "3         gender\n",
       "4    blood group\n",
       "dtype: object"
      ]
     },
     "execution_count": 24,
     "metadata": {},
     "output_type": "execute_result"
    }
   ],
   "source": [
    "ser3"
   ]
  },
  {
   "cell_type": "code",
   "execution_count": 25,
   "id": "fb4022f9-5dea-4200-a8e8-b948c53fa5a0",
   "metadata": {},
   "outputs": [
    {
     "data": {
      "text/plain": [
       "'age'"
      ]
     },
     "execution_count": 25,
     "metadata": {},
     "output_type": "execute_result"
    }
   ],
   "source": [
    " ser3[2]"
   ]
  },
  {
   "cell_type": "code",
   "execution_count": 26,
   "id": "8355274f-f511-42df-abe7-efa57f44744d",
   "metadata": {},
   "outputs": [
    {
     "data": {
      "text/plain": [
       "'Fname'"
      ]
     },
     "execution_count": 26,
     "metadata": {},
     "output_type": "execute_result"
    }
   ],
   "source": [
    "ser3[0]"
   ]
  },
  {
   "cell_type": "code",
   "execution_count": 27,
   "id": "05e31f79-c6fe-48f9-95cb-82a4b9aa4720",
   "metadata": {},
   "outputs": [
    {
     "data": {
      "text/plain": [
       "Germany    4.0\n",
       "Italy      NaN\n",
       "Japan      8.0\n",
       "USA        2.0\n",
       "USSR       NaN\n",
       "dtype: float64"
      ]
     },
     "execution_count": 27,
     "metadata": {},
     "output_type": "execute_result"
    }
   ],
   "source": [
    "ser1 + ser2"
   ]
  },
  {
   "cell_type": "code",
   "execution_count": 28,
   "id": "3bbcea45-8253-4d6f-8dee-bf07219fe00f",
   "metadata": {},
   "outputs": [
    {
     "data": {
      "text/plain": [
       "USA        1\n",
       "Germany    2\n",
       "USSR       3\n",
       "Japan      4\n",
       "dtype: int64"
      ]
     },
     "execution_count": 28,
     "metadata": {},
     "output_type": "execute_result"
    }
   ],
   "source": [
    "ser1"
   ]
  },
  {
   "cell_type": "code",
   "execution_count": 29,
   "id": "f8c6aef6-9c1f-4f84-8352-f7f326dc165f",
   "metadata": {},
   "outputs": [
    {
     "data": {
      "text/plain": [
       "USA        1\n",
       "Germany    2\n",
       "Italy      5\n",
       "Japan      4\n",
       "dtype: int64"
      ]
     },
     "execution_count": 29,
     "metadata": {},
     "output_type": "execute_result"
    }
   ],
   "source": [
    "ser2"
   ]
  },
  {
   "cell_type": "code",
   "execution_count": 30,
   "id": "fe15c25c-4066-4417-96cb-785d8ab81614",
   "metadata": {},
   "outputs": [
    {
     "data": {
      "text/plain": [
       "Germany    4.0\n",
       "Italy      NaN\n",
       "Japan      8.0\n",
       "USA        2.0\n",
       "USSR       NaN\n",
       "dtype: float64"
      ]
     },
     "execution_count": 30,
     "metadata": {},
     "output_type": "execute_result"
    }
   ],
   "source": [
    "ser1+ser2"
   ]
  },
  {
   "cell_type": "code",
   "execution_count": 33,
   "id": "0a352a5f-204c-4fdb-a747-c9735fa7789d",
   "metadata": {},
   "outputs": [],
   "source": [
    "capitals=pd.Series(data=['Dehli' , 'NY' , 'Toronto'] , index=['India' , 'USA' , 'Canada'])"
   ]
  },
  {
   "cell_type": "code",
   "execution_count": 34,
   "id": "41c2811d-4c4f-41ce-b752-2a8b9eaff3f8",
   "metadata": {},
   "outputs": [
    {
     "data": {
      "text/plain": [
       "India       Dehli\n",
       "USA            NY\n",
       "Canada    Toronto\n",
       "dtype: object"
      ]
     },
     "execution_count": 34,
     "metadata": {},
     "output_type": "execute_result"
    }
   ],
   "source": [
    "capitals"
   ]
  },
  {
   "cell_type": "code",
   "execution_count": 35,
   "id": "8293f574-5809-4936-a00d-22185f6ccee8",
   "metadata": {},
   "outputs": [
    {
     "data": {
      "text/plain": [
       "'Dehli'"
      ]
     },
     "execution_count": 35,
     "metadata": {},
     "output_type": "execute_result"
    }
   ],
   "source": [
    "capitals['India']"
   ]
  },
  {
   "cell_type": "code",
   "execution_count": 36,
   "id": "cac28d4a-b51b-4dcd-98ab-a25903a3722c",
   "metadata": {},
   "outputs": [
    {
     "data": {
      "text/plain": [
       "'NY'"
      ]
     },
     "execution_count": 36,
     "metadata": {},
     "output_type": "execute_result"
    }
   ],
   "source": [
    "capitals['USA']"
   ]
  },
  {
   "cell_type": "code",
   "execution_count": 37,
   "id": "b0e877fd-0ba0-4016-bb81-2f5fe020b4ff",
   "metadata": {},
   "outputs": [
    {
     "data": {
      "text/plain": [
       "'Toronto'"
      ]
     },
     "execution_count": 37,
     "metadata": {},
     "output_type": "execute_result"
    }
   ],
   "source": [
    "capitals['Canada']"
   ]
  },
  {
   "cell_type": "code",
   "execution_count": 5,
   "id": "0b895eea-b2df-4752-801e-6f05ece2be31",
   "metadata": {},
   "outputs": [],
   "source": [
    "s=pd.Series(data=['Dehli' , 'Toronto' , 'Washington' , 'London'] , index=['India' , 'Canada' , 'USA' , 'UK'])"
   ]
  },
  {
   "cell_type": "code",
   "execution_count": 6,
   "id": "ca23a09c-64b9-496c-87dc-187f6109e9cc",
   "metadata": {},
   "outputs": [
    {
     "data": {
      "text/plain": [
       "India          Dehli\n",
       "Canada       Toronto\n",
       "USA       Washington\n",
       "UK            London\n",
       "dtype: object"
      ]
     },
     "execution_count": 6,
     "metadata": {},
     "output_type": "execute_result"
    }
   ],
   "source": [
    "s"
   ]
  },
  {
   "cell_type": "code",
   "execution_count": 7,
   "id": "fa8e57fb-a836-470d-a218-94afcb45b365",
   "metadata": {},
   "outputs": [
    {
     "data": {
      "text/plain": [
       "'Dehli'"
      ]
     },
     "execution_count": 7,
     "metadata": {},
     "output_type": "execute_result"
    }
   ],
   "source": [
    "s['India']"
   ]
  },
  {
   "cell_type": "code",
   "execution_count": 8,
   "id": "d6ec9f7d-59ff-4ee6-8d18-0b06d2906e3e",
   "metadata": {},
   "outputs": [
    {
     "data": {
      "text/plain": [
       "'Washington'"
      ]
     },
     "execution_count": 8,
     "metadata": {},
     "output_type": "execute_result"
    }
   ],
   "source": [
    "s['USA']"
   ]
  },
  {
   "cell_type": "code",
   "execution_count": 9,
   "id": "8ff402cf-59d6-4839-a3c9-e40a5f5519c6",
   "metadata": {},
   "outputs": [
    {
     "data": {
      "text/plain": [
       "'Toronto'"
      ]
     },
     "execution_count": 9,
     "metadata": {},
     "output_type": "execute_result"
    }
   ],
   "source": [
    "s['Canada']"
   ]
  },
  {
   "cell_type": "code",
   "execution_count": 10,
   "id": "6fdccd3c-a261-499a-9381-8a540d6dc93d",
   "metadata": {},
   "outputs": [
    {
     "data": {
      "text/plain": [
       "'London'"
      ]
     },
     "execution_count": 10,
     "metadata": {},
     "output_type": "execute_result"
    }
   ],
   "source": [
    "s['UK']"
   ]
  },
  {
   "cell_type": "code",
   "execution_count": null,
   "id": "51a90599-4044-4ed1-bfff-82c5707a9bb8",
   "metadata": {},
   "outputs": [],
   "source": []
  }
 ],
 "metadata": {
  "kernelspec": {
   "display_name": "Python 3 (ipykernel)",
   "language": "python",
   "name": "python3"
  },
  "language_info": {
   "codemirror_mode": {
    "name": "ipython",
    "version": 3
   },
   "file_extension": ".py",
   "mimetype": "text/x-python",
   "name": "python",
   "nbconvert_exporter": "python",
   "pygments_lexer": "ipython3",
   "version": "3.10.5"
  }
 },
 "nbformat": 4,
 "nbformat_minor": 5
}
